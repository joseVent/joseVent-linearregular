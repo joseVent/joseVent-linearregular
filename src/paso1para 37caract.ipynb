{
    "cells": [
        {
            "cell_type": "markdown",
            "metadata": {},
            "source": [
                "# regresión lineal regular \n",
                "\n",
                "Datos sociodemográficos y de recursos de salud a nivel de condado de EE. UU. (2018-2019)\n",
                "Se han recopilado datos sociodemográficos y de recursos de salud por condado en los Estados Unidos y queremos descubrir si existe alguna relación entre los recursos sanitarios y los datos sociodemográficos.\n",
                "\n",
                "Para ello, es necesario que establezcas una variable objetivo (relacionada con la salud) para llevar a cabo el análisis.\n",
                "\n"
            ]
        },
        {
            "cell_type": "markdown",
            "metadata": {},
            "source": [
                "1. Cargo el dataset COMPLETO: con todas sus filas y columnas.\n",
                "2. Divido el dataset en TRAIN y TEST. Me guardo los IDs de TRAIN y los IDs de TEST.\n",
                "3. Hago un feature selection (SelectKBest) y me quedo con el 30% de las predictoras usando el dataset de TRAIN. Si tenía 108, me quedo con 36\n",
                "4. Una vez el modelo de selección me ha dado las 36 mejores, filtro TRAIN y TEST y me quedo con esas variables (incluyendo la target)\n",
                "5. Junto TRAIN y TEST para hacer un EDA completo\n",
                "6. En el EDA, en el paso del análisis multivariante, analizo si todas las variables tienen correlación, o si hay algunas que podría descartar. En el caso de que\n",
                "pudiera descartar, aplicaría de nuevo un feature selection (SelectKBest) para eliminarlas.\n",
                "7. Listo para entrenar mi regresión lineal\n",
                "8. Listo para entrenar mi L1 (regresión lineal regularizada de Lasso)"
            ]
        },
        {
            "cell_type": "markdown",
            "metadata": {},
            "source": [
                "paso 1: cargar el dataset completo "
            ]
        },
        {
            "cell_type": "code",
            "execution_count": 17,
            "metadata": {},
            "outputs": [
                {
                    "name": "stdout",
                    "output_type": "stream",
                    "text": [
                        "   fips  TOT_POP    0-9  0-9 y/o % of total pop  19-Oct  \\\n",
                        "0  1001    55601   6787               12.206615    7637   \n",
                        "1  1003   218022  24757               11.355276   26913   \n",
                        "2  1005    24881   2732               10.980266    2960   \n",
                        "3  1007    22400   2456               10.964286    2596   \n",
                        "4  1009    57840   7095               12.266598    7570   \n",
                        "\n",
                        "   10-19 y/o % of total pop  20-29  20-29 y/o % of total pop  30-39  \\\n",
                        "0                 13.735364   6878                 12.370281   7089   \n",
                        "1                 12.344167  23579                 10.814964  25213   \n",
                        "2                 11.896628   3268                 13.134520   3201   \n",
                        "3                 11.589286   3029                 13.522321   3113   \n",
                        "4                 13.087828   6742                 11.656293   6884   \n",
                        "\n",
                        "   30-39 y/o % of total pop  ...  COPD_number  diabetes_prevalence  \\\n",
                        "0                 12.749771  ...         3644                 12.9   \n",
                        "1                 11.564429  ...        14692                 12.0   \n",
                        "2                 12.865239  ...         2373                 19.7   \n",
                        "3                 13.897321  ...         1789                 14.1   \n",
                        "4                 11.901798  ...         4661                 13.5   \n",
                        "\n",
                        "   diabetes_Lower 95% CI  diabetes_Upper 95% CI  diabetes_number  \\\n",
                        "0                   11.9                   13.8             5462   \n",
                        "1                   11.0                   13.1            20520   \n",
                        "2                   18.6                   20.6             3870   \n",
                        "3                   13.2                   14.9             2511   \n",
                        "4                   12.6                   14.5             6017   \n",
                        "\n",
                        "   CKD_prevalence  CKD_Lower 95% CI  CKD_Upper 95% CI  CKD_number  \\\n",
                        "0             3.1               2.9               3.3        1326   \n",
                        "1             3.2               3.0               3.5        5479   \n",
                        "2             4.5               4.2               4.8         887   \n",
                        "3             3.3               3.1               3.6         595   \n",
                        "4             3.4               3.2               3.7        1507   \n",
                        "\n",
                        "   Urban_rural_code  \n",
                        "0                 3  \n",
                        "1                 4  \n",
                        "2                 6  \n",
                        "3                 2  \n",
                        "4                 2  \n",
                        "\n",
                        "[5 rows x 108 columns]\n",
                        "<class 'pandas.core.frame.DataFrame'>\n",
                        "RangeIndex: 3140 entries, 0 to 3139\n",
                        "Columns: 108 entries, fips to Urban_rural_code\n",
                        "dtypes: float64(61), int64(45), object(2)\n",
                        "memory usage: 2.6+ MB\n"
                    ]
                }
            ],
            "source": [
                "import seaborn as sns\n",
                "\n",
                "import pandas as pd\n",
                "\n",
                "total_data = pd.read_csv(\"https://raw.githubusercontent.com/4GeeksAcademy/regularized-linear-regression-project-tutorial/main/demographic_health_data.csv\")\n",
                "\n",
                "\n",
                "\n",
                "print (total_data.head())\n",
                "\n",
                "total_data.info()\n"
            ]
        },
        {
            "cell_type": "markdown",
            "metadata": {},
            "source": [
                "5 filas, 108 columnas..."
            ]
        },
        {
            "cell_type": "markdown",
            "metadata": {},
            "source": [
                "paso 2: divido el dataset en train y en test \n",
                "me guardo los ids de train y test "
            ]
        },
        {
            "cell_type": "code",
            "execution_count": 19,
            "metadata": {},
            "outputs": [
                {
                    "data": {
                        "text/plain": [
                            "Index(['fips', 'TOT_POP', '0-9', '0-9 y/o % of total pop', '19-Oct',\n",
                            "       '10-19 y/o % of total pop', '20-29', '20-29 y/o % of total pop',\n",
                            "       '30-39', '30-39 y/o % of total pop',\n",
                            "       ...\n",
                            "       'COPD_number', 'diabetes_prevalence', 'diabetes_Lower 95% CI',\n",
                            "       'diabetes_Upper 95% CI', 'diabetes_number', 'CKD_prevalence',\n",
                            "       'CKD_Lower 95% CI', 'CKD_Upper 95% CI', 'CKD_number',\n",
                            "       'Urban_rural_code'],\n",
                            "      dtype='object', length=108)"
                        ]
                    },
                    "execution_count": 19,
                    "metadata": {},
                    "output_type": "execute_result"
                }
            ],
            "source": [
                "total_data.columns\n",
                "\n"
            ]
        },
        {
            "cell_type": "code",
            "execution_count": 20,
            "metadata": {},
            "outputs": [
                {
                    "data": {
                        "text/html": [
                            "<div>\n",
                            "<style scoped>\n",
                            "    .dataframe tbody tr th:only-of-type {\n",
                            "        vertical-align: middle;\n",
                            "    }\n",
                            "\n",
                            "    .dataframe tbody tr th {\n",
                            "        vertical-align: top;\n",
                            "    }\n",
                            "\n",
                            "    .dataframe thead th {\n",
                            "        text-align: right;\n",
                            "    }\n",
                            "</style>\n",
                            "<table border=\"1\" class=\"dataframe\">\n",
                            "  <thead>\n",
                            "    <tr style=\"text-align: right;\">\n",
                            "      <th></th>\n",
                            "      <th>Total Population</th>\n",
                            "      <th>TOT_POP</th>\n",
                            "    </tr>\n",
                            "  </thead>\n",
                            "  <tbody>\n",
                            "    <tr>\n",
                            "      <th>0</th>\n",
                            "      <td>55036</td>\n",
                            "      <td>55601</td>\n",
                            "    </tr>\n",
                            "    <tr>\n",
                            "      <th>1</th>\n",
                            "      <td>203360</td>\n",
                            "      <td>218022</td>\n",
                            "    </tr>\n",
                            "    <tr>\n",
                            "      <th>2</th>\n",
                            "      <td>26201</td>\n",
                            "      <td>24881</td>\n",
                            "    </tr>\n",
                            "    <tr>\n",
                            "      <th>3</th>\n",
                            "      <td>22580</td>\n",
                            "      <td>22400</td>\n",
                            "    </tr>\n",
                            "    <tr>\n",
                            "      <th>4</th>\n",
                            "      <td>57667</td>\n",
                            "      <td>57840</td>\n",
                            "    </tr>\n",
                            "    <tr>\n",
                            "      <th>...</th>\n",
                            "      <td>...</td>\n",
                            "      <td>...</td>\n",
                            "    </tr>\n",
                            "    <tr>\n",
                            "      <th>3135</th>\n",
                            "      <td>44527</td>\n",
                            "      <td>43051</td>\n",
                            "    </tr>\n",
                            "    <tr>\n",
                            "      <th>3136</th>\n",
                            "      <td>22923</td>\n",
                            "      <td>23081</td>\n",
                            "    </tr>\n",
                            "    <tr>\n",
                            "      <th>3137</th>\n",
                            "      <td>20758</td>\n",
                            "      <td>20299</td>\n",
                            "    </tr>\n",
                            "    <tr>\n",
                            "      <th>3138</th>\n",
                            "      <td>8253</td>\n",
                            "      <td>7885</td>\n",
                            "    </tr>\n",
                            "    <tr>\n",
                            "      <th>3139</th>\n",
                            "      <td>7117</td>\n",
                            "      <td>6967</td>\n",
                            "    </tr>\n",
                            "  </tbody>\n",
                            "</table>\n",
                            "<p>3140 rows × 2 columns</p>\n",
                            "</div>"
                        ],
                        "text/plain": [
                            "      Total Population  TOT_POP\n",
                            "0                55036    55601\n",
                            "1               203360   218022\n",
                            "2                26201    24881\n",
                            "3                22580    22400\n",
                            "4                57667    57840\n",
                            "...                ...      ...\n",
                            "3135             44527    43051\n",
                            "3136             22923    23081\n",
                            "3137             20758    20299\n",
                            "3138              8253     7885\n",
                            "3139              7117     6967\n",
                            "\n",
                            "[3140 rows x 2 columns]"
                        ]
                    },
                    "execution_count": 20,
                    "metadata": {},
                    "output_type": "execute_result"
                }
            ],
            "source": [
                "total_data[[\"Total Population\", \"TOT_POP\"]]"
            ]
        },
        {
            "cell_type": "markdown",
            "metadata": {},
            "source": [
                "Entre Total Population y TOT_POP escojo Total Pòpulation como la target "
            ]
        },
        {
            "cell_type": "markdown",
            "metadata": {},
            "source": [
                "HAY columnas de object, las transformo en integer "
            ]
        },
        {
            "cell_type": "code",
            "execution_count": 21,
            "metadata": {},
            "outputs": [],
            "source": [
                "import pandas as pd\n",
                "\n",
                "\n",
                "\n",
                "# Seleccionar las columnas de tipo 'object'\n",
                "object_columns = total_data.select_dtypes(include=['object'])\n",
                "\n",
                "# Convertir las columnas seleccionadas a tipo 'integer', reemplazando valores no numéricos con NaN\n",
                "for column in object_columns:\n",
                "    total_data[column] = pd.to_numeric(total_data[column], errors='coerce')\n"
            ]
        },
        {
            "cell_type": "code",
            "execution_count": 23,
            "metadata": {},
            "outputs": [
                {
                    "name": "stdout",
                    "output_type": "stream",
                    "text": [
                        "<class 'pandas.core.frame.DataFrame'>\n",
                        "RangeIndex: 3140 entries, 0 to 3139\n",
                        "Columns: 108 entries, fips to Urban_rural_code\n",
                        "dtypes: float64(63), int64(45)\n",
                        "memory usage: 2.6 MB\n"
                    ]
                }
            ],
            "source": [
                "total_data.info()\n"
            ]
        },
        {
            "cell_type": "markdown",
            "metadata": {},
            "source": [
                "Reemplazo NaN"
            ]
        },
        {
            "cell_type": "code",
            "execution_count": 26,
            "metadata": {},
            "outputs": [
                {
                    "data": {
                        "text/plain": [
                            "fips                      0\n",
                            "TOT_POP                   0\n",
                            "0-9                       0\n",
                            "0-9 y/o % of total pop    0\n",
                            "19-Oct                    0\n",
                            "                         ..\n",
                            "CKD_prevalence            0\n",
                            "CKD_Lower 95% CI          0\n",
                            "CKD_Upper 95% CI          0\n",
                            "CKD_number                0\n",
                            "Urban_rural_code          0\n",
                            "Length: 108, dtype: int64"
                        ]
                    },
                    "execution_count": 26,
                    "metadata": {},
                    "output_type": "execute_result"
                }
            ],
            "source": [
                "total_data.isna().sum()"
            ]
        },
        {
            "cell_type": "code",
            "execution_count": 27,
            "metadata": {},
            "outputs": [
                {
                    "name": "stdout",
                    "output_type": "stream",
                    "text": [
                        "Columnas con valores NaN:\n",
                        "['COUNTY_NAME', 'STATE_NAME']\n"
                    ]
                }
            ],
            "source": [
                "import pandas as pd\n",
                "\n",
                "\n",
                "\n",
                "# Obtener una lista de columnas que tienen al menos un NaN\n",
                "columns_with_nan = total_data.columns[total_data.isna().any()].tolist()\n",
                "\n",
                "print(\"Columnas con valores NaN:\")\n",
                "print(columns_with_nan)\n"
            ]
        },
        {
            "cell_type": "markdown",
            "metadata": {},
            "source": [
                "factorizo estas columnas, necesario para dividir en TRain y Test y elimino las no factorizadas "
            ]
        },
        {
            "cell_type": "code",
            "execution_count": 28,
            "metadata": {},
            "outputs": [
                {
                    "name": "stdout",
                    "output_type": "stream",
                    "text": [
                        "0      NaN\n",
                        "1      NaN\n",
                        "2      NaN\n",
                        "3      NaN\n",
                        "4      NaN\n",
                        "        ..\n",
                        "3135   NaN\n",
                        "3136   NaN\n",
                        "3137   NaN\n",
                        "3138   NaN\n",
                        "3139   NaN\n",
                        "Name: COUNTY_NAME, Length: 3140, dtype: float64\n"
                    ]
                }
            ],
            "source": [
                "print(total_data[\"COUNTY_NAME\"])\n",
                "\n"
            ]
        },
        {
            "cell_type": "code",
            "execution_count": 29,
            "metadata": {},
            "outputs": [
                {
                    "name": "stdout",
                    "output_type": "stream",
                    "text": [
                        "Columnas con valores NaN:\n",
                        "[]\n"
                    ]
                }
            ],
            "source": [
                "import pandas as pd\n",
                "\n",
                "total_data[\"COUNTY_NAME_N\"] = pd.factorize( total_data[\"COUNTY_NAME\"])[0]\n",
                "total_data[\"STATE_NAME_N\"] = pd.factorize( total_data[\"STATE_NAME\"])[0]\n",
                "\n",
                "columns_to_drop = ['COUNTY_NAME', 'STATE_NAME']\n",
                "total_data = total_data.drop(columns=columns_to_drop)\n",
                "\n",
                "# Obtener una lista de columnas que tienen al menos un NaN\n",
                "columns_with_nan = total_data.columns[total_data.isna().any()].tolist()\n",
                "\n",
                "print(\"Columnas con valores NaN:\")\n",
                "print(columns_with_nan)\n",
                "\n",
                "\n"
            ]
        },
        {
            "cell_type": "markdown",
            "metadata": {},
            "source": [
                "ahora divido en train y test "
            ]
        },
        {
            "cell_type": "code",
            "execution_count": 30,
            "metadata": {},
            "outputs": [
                {
                    "data": {
                        "text/html": [
                            "<div>\n",
                            "<style scoped>\n",
                            "    .dataframe tbody tr th:only-of-type {\n",
                            "        vertical-align: middle;\n",
                            "    }\n",
                            "\n",
                            "    .dataframe tbody tr th {\n",
                            "        vertical-align: top;\n",
                            "    }\n",
                            "\n",
                            "    .dataframe thead th {\n",
                            "        text-align: right;\n",
                            "    }\n",
                            "</style>\n",
                            "<table border=\"1\" class=\"dataframe\">\n",
                            "  <thead>\n",
                            "    <tr style=\"text-align: right;\">\n",
                            "      <th></th>\n",
                            "      <th>fips</th>\n",
                            "      <th>TOT_POP</th>\n",
                            "      <th>0-9</th>\n",
                            "      <th>0-9 y/o % of total pop</th>\n",
                            "      <th>19-Oct</th>\n",
                            "      <th>10-19 y/o % of total pop</th>\n",
                            "      <th>20-29</th>\n",
                            "      <th>20-29 y/o % of total pop</th>\n",
                            "      <th>30-39</th>\n",
                            "      <th>30-39 y/o % of total pop</th>\n",
                            "      <th>...</th>\n",
                            "      <th>diabetes_Lower 95% CI</th>\n",
                            "      <th>diabetes_Upper 95% CI</th>\n",
                            "      <th>diabetes_number</th>\n",
                            "      <th>CKD_prevalence</th>\n",
                            "      <th>CKD_Lower 95% CI</th>\n",
                            "      <th>CKD_Upper 95% CI</th>\n",
                            "      <th>CKD_number</th>\n",
                            "      <th>Urban_rural_code</th>\n",
                            "      <th>COUNTY_NAME_N</th>\n",
                            "      <th>STATE_NAME_N</th>\n",
                            "    </tr>\n",
                            "  </thead>\n",
                            "  <tbody>\n",
                            "    <tr>\n",
                            "      <th>1292</th>\n",
                            "      <td>26127</td>\n",
                            "      <td>26625</td>\n",
                            "      <td>3221</td>\n",
                            "      <td>12.097653</td>\n",
                            "      <td>3463</td>\n",
                            "      <td>13.006573</td>\n",
                            "      <td>2922</td>\n",
                            "      <td>10.974648</td>\n",
                            "      <td>2829</td>\n",
                            "      <td>10.625352</td>\n",
                            "      <td>...</td>\n",
                            "      <td>12.6</td>\n",
                            "      <td>14.9</td>\n",
                            "      <td>2823</td>\n",
                            "      <td>3.8</td>\n",
                            "      <td>3.5</td>\n",
                            "      <td>4.1</td>\n",
                            "      <td>771</td>\n",
                            "      <td>6</td>\n",
                            "      <td>-1</td>\n",
                            "      <td>-1</td>\n",
                            "    </tr>\n",
                            "    <tr>\n",
                            "      <th>2302</th>\n",
                            "      <td>42121</td>\n",
                            "      <td>51266</td>\n",
                            "      <td>5272</td>\n",
                            "      <td>10.283619</td>\n",
                            "      <td>5751</td>\n",
                            "      <td>11.217961</td>\n",
                            "      <td>5137</td>\n",
                            "      <td>10.020286</td>\n",
                            "      <td>5341</td>\n",
                            "      <td>10.418211</td>\n",
                            "      <td>...</td>\n",
                            "      <td>11.9</td>\n",
                            "      <td>14.2</td>\n",
                            "      <td>5416</td>\n",
                            "      <td>3.5</td>\n",
                            "      <td>3.2</td>\n",
                            "      <td>3.8</td>\n",
                            "      <td>1454</td>\n",
                            "      <td>5</td>\n",
                            "      <td>-1</td>\n",
                            "      <td>-1</td>\n",
                            "    </tr>\n",
                            "    <tr>\n",
                            "      <th>761</th>\n",
                            "      <td>18133</td>\n",
                            "      <td>37779</td>\n",
                            "      <td>3915</td>\n",
                            "      <td>10.362900</td>\n",
                            "      <td>5118</td>\n",
                            "      <td>13.547209</td>\n",
                            "      <td>6202</td>\n",
                            "      <td>16.416528</td>\n",
                            "      <td>4363</td>\n",
                            "      <td>11.548744</td>\n",
                            "      <td>...</td>\n",
                            "      <td>11.2</td>\n",
                            "      <td>13.1</td>\n",
                            "      <td>3698</td>\n",
                            "      <td>2.9</td>\n",
                            "      <td>2.7</td>\n",
                            "      <td>3.1</td>\n",
                            "      <td>871</td>\n",
                            "      <td>2</td>\n",
                            "      <td>-1</td>\n",
                            "      <td>-1</td>\n",
                            "    </tr>\n",
                            "    <tr>\n",
                            "      <th>2194</th>\n",
                            "      <td>40131</td>\n",
                            "      <td>91984</td>\n",
                            "      <td>11163</td>\n",
                            "      <td>12.135806</td>\n",
                            "      <td>12646</td>\n",
                            "      <td>13.748043</td>\n",
                            "      <td>11595</td>\n",
                            "      <td>12.605453</td>\n",
                            "      <td>11357</td>\n",
                            "      <td>12.346712</td>\n",
                            "      <td>...</td>\n",
                            "      <td>10.4</td>\n",
                            "      <td>12.0</td>\n",
                            "      <td>7913</td>\n",
                            "      <td>3.0</td>\n",
                            "      <td>2.8</td>\n",
                            "      <td>3.2</td>\n",
                            "      <td>2118</td>\n",
                            "      <td>3</td>\n",
                            "      <td>-1</td>\n",
                            "      <td>-1</td>\n",
                            "    </tr>\n",
                            "    <tr>\n",
                            "      <th>1241</th>\n",
                            "      <td>26025</td>\n",
                            "      <td>134487</td>\n",
                            "      <td>16698</td>\n",
                            "      <td>12.416070</td>\n",
                            "      <td>17666</td>\n",
                            "      <td>13.135842</td>\n",
                            "      <td>17281</td>\n",
                            "      <td>12.849569</td>\n",
                            "      <td>15993</td>\n",
                            "      <td>11.891856</td>\n",
                            "      <td>...</td>\n",
                            "      <td>11.7</td>\n",
                            "      <td>13.4</td>\n",
                            "      <td>12987</td>\n",
                            "      <td>3.4</td>\n",
                            "      <td>3.2</td>\n",
                            "      <td>3.6</td>\n",
                            "      <td>3490</td>\n",
                            "      <td>4</td>\n",
                            "      <td>-1</td>\n",
                            "      <td>-1</td>\n",
                            "    </tr>\n",
                            "  </tbody>\n",
                            "</table>\n",
                            "<p>5 rows × 107 columns</p>\n",
                            "</div>"
                        ],
                        "text/plain": [
                            "       fips  TOT_POP    0-9  0-9 y/o % of total pop  19-Oct  \\\n",
                            "1292  26127    26625   3221               12.097653    3463   \n",
                            "2302  42121    51266   5272               10.283619    5751   \n",
                            "761   18133    37779   3915               10.362900    5118   \n",
                            "2194  40131    91984  11163               12.135806   12646   \n",
                            "1241  26025   134487  16698               12.416070   17666   \n",
                            "\n",
                            "      10-19 y/o % of total pop  20-29  20-29 y/o % of total pop  30-39  \\\n",
                            "1292                 13.006573   2922                 10.974648   2829   \n",
                            "2302                 11.217961   5137                 10.020286   5341   \n",
                            "761                  13.547209   6202                 16.416528   4363   \n",
                            "2194                 13.748043  11595                 12.605453  11357   \n",
                            "1241                 13.135842  17281                 12.849569  15993   \n",
                            "\n",
                            "      30-39 y/o % of total pop  ...  diabetes_Lower 95% CI  \\\n",
                            "1292                 10.625352  ...                   12.6   \n",
                            "2302                 10.418211  ...                   11.9   \n",
                            "761                  11.548744  ...                   11.2   \n",
                            "2194                 12.346712  ...                   10.4   \n",
                            "1241                 11.891856  ...                   11.7   \n",
                            "\n",
                            "      diabetes_Upper 95% CI  diabetes_number  CKD_prevalence  \\\n",
                            "1292                   14.9             2823             3.8   \n",
                            "2302                   14.2             5416             3.5   \n",
                            "761                    13.1             3698             2.9   \n",
                            "2194                   12.0             7913             3.0   \n",
                            "1241                   13.4            12987             3.4   \n",
                            "\n",
                            "      CKD_Lower 95% CI  CKD_Upper 95% CI  CKD_number  Urban_rural_code  \\\n",
                            "1292               3.5               4.1         771                 6   \n",
                            "2302               3.2               3.8        1454                 5   \n",
                            "761                2.7               3.1         871                 2   \n",
                            "2194               2.8               3.2        2118                 3   \n",
                            "1241               3.2               3.6        3490                 4   \n",
                            "\n",
                            "      COUNTY_NAME_N  STATE_NAME_N  \n",
                            "1292             -1            -1  \n",
                            "2302             -1            -1  \n",
                            "761              -1            -1  \n",
                            "2194             -1            -1  \n",
                            "1241             -1            -1  \n",
                            "\n",
                            "[5 rows x 107 columns]"
                        ]
                    },
                    "execution_count": 30,
                    "metadata": {},
                    "output_type": "execute_result"
                }
            ],
            "source": [
                "\n",
                "import pandas as pd\n",
                "from sklearn.model_selection import train_test_split\n",
                "\n",
                "\n",
                "\n",
                "# Dividir total_data en X (características) e y (etiquetas)\n",
                "X = total_data.drop(columns=['Total Population'])  \n",
                "y = total_data['Total Population']\n",
                "\n",
                "# Dividir en train y test\n",
                "X_train, X_test, y_train, y_test = train_test_split(X, y, test_size=0.2, random_state=42)\n",
                "\n",
                "\n",
                "X_train.head()\n"
            ]
        },
        {
            "cell_type": "markdown",
            "metadata": {},
            "source": [
                "nos guardamos el id de train y test "
            ]
        },
        {
            "cell_type": "code",
            "execution_count": 31,
            "metadata": {},
            "outputs": [],
            "source": [
                "train_indices = X_train.index\n",
                "test_indices = X_test.index\n"
            ]
        },
        {
            "cell_type": "markdown",
            "metadata": {},
            "source": [
                "Hago un feature selection (SelectKBest) y me quedo con el 30% de las predictoras usando el dataset de TRAIN. Si tenía 108, me quedo con 36"
            ]
        },
        {
            "cell_type": "markdown",
            "metadata": {},
            "source": [
                "filtro para incluir estas 36 variables y el target "
            ]
        },
        {
            "cell_type": "code",
            "execution_count": 34,
            "metadata": {},
            "outputs": [
                {
                    "name": "stdout",
                    "output_type": "stream",
                    "text": [
                        "Tamaño de total_data: (3140, 37)\n",
                        "Columnas con valores NaN:\n",
                        "[]\n"
                    ]
                },
                {
                    "data": {
                        "text/plain": [
                            "Index(['TOT_POP', '0-9', '19-Oct', '20-29', '30-39', '40-49', '50-59', '60-69',\n",
                            "       '70-79', '80+', 'White-alone pop', 'Two or more races pop',\n",
                            "       'POP_ESTIMATE_2018', 'Less than a high school diploma 2014-18',\n",
                            "       'High school diploma only 2014-18',\n",
                            "       'Some college or associate's degree 2014-18',\n",
                            "       'Bachelor's degree or higher 2014-18', 'POVALL_2018',\n",
                            "       'Civilian_labor_force_2018', 'Employed_2018', 'Unemployed_2018',\n",
                            "       'Total nurse practitioners (2019)', 'Total physician assistants (2019)',\n",
                            "       'Total Hospitals (2019)', 'Internal Medicine Primary Care (2019)',\n",
                            "       'Family Medicine/General Practice Primary Care (2019)',\n",
                            "       'Total Specialist Physicians (2019)', 'ICU Beds_x',\n",
                            "       'Population Aged 60+', 'county_pop2018_18 and older',\n",
                            "       'anycondition_number', 'Obesity_number', 'Heart disease_number',\n",
                            "       'COPD_number', 'diabetes_number', 'CKD_number', 'Total Population'],\n",
                            "      dtype='object')"
                        ]
                    },
                    "execution_count": 34,
                    "metadata": {},
                    "output_type": "execute_result"
                }
            ],
            "source": [
                "import pandas as pd\n",
                "from sklearn.feature_selection import SelectKBest, f_regression\n",
                "\n",
                "# Supongamos que seleccionamos las mejores 36 características\n",
                "k_best_features = 36\n",
                "selection_model = SelectKBest(score_func=f_regression, k=k_best_features)\n",
                "X_train_selected = selection_model.fit_transform(X_train, y_train)\n",
                "\n",
                "# Obtener la máscara de características seleccionadas (índices True/False)\n",
                "selected_mask = selection_model.get_support()\n",
                "\n",
                "# Obtener los nombres de las características seleccionadas\n",
                "selected_feature_names = X_train.columns[selected_mask]\n",
                "\n",
                "# Filtrar las características seleccionadas en X_test\n",
                "X_test_selected = X_test[selected_feature_names]\n",
                "\n",
                "# Convertir 'X_train_selected' a un DataFrame de Pandas con los nombres de las características seleccionadas\n",
                "X_train_selected_total = pd.DataFrame(X_train_selected, columns=selected_feature_names)\n",
                "\n",
                "# Crear una copia del DataFrame 'X_train_selected_total' para agregar 'y_train' como columna\n",
                "X_train_selected_with_target = X_train_selected_total.copy()\n",
                "\n",
                "# Ahora 'X_train_selected_with_target' contiene las características seleccionadas de entrenamiento\n",
                "\n",
                "# Concatenar 'X_train_selected_with_target' y 'X_test_selected' en un solo DataFrame llamado 'total_data'\n",
                "total_data = pd.concat([X_train_selected_with_target, X_test_selected], axis=0)\n",
                "\n",
                "# Agregar la variable objetivo 'POP_TOT' solo para las etiquetas de prueba en 'total_data'\n",
                "total_data['Total Population'] = pd.concat([y_train, y_test], axis=0)\n",
                "\n",
                "# Verificar el tamaño del DataFrame resultante\n",
                "print(\"Tamaño de total_data:\", total_data.shape)\n",
                "\n",
                "# Obtener una lista de columnas que tienen al menos un NaN\n",
                "columns_with_nan = total_data.columns[total_data.isna().any()].tolist()\n",
                "\n",
                "print(\"Columnas con valores NaN:\")\n",
                "print(columns_with_nan)\n",
                "\n",
                "total_data.columns\n"
            ]
        },
        {
            "cell_type": "markdown",
            "metadata": {},
            "source": [
                "salvo el nuevo dataset en data/processed"
            ]
        },
        {
            "cell_type": "code",
            "execution_count": 35,
            "metadata": {},
            "outputs": [
                {
                    "data": {
                        "text/plain": [
                            "<bound method DataFrame.info of        TOT_POP      0-9   19-Oct    20-29    30-39    40-49    50-59    60-69  \\\n",
                            "0      26625.0   3221.0   3463.0   2922.0   2829.0   2831.0   3831.0   3860.0   \n",
                            "1      51266.0   5272.0   5751.0   5137.0   5341.0   5880.0   7885.0   8271.0   \n",
                            "2      37779.0   3915.0   5118.0   6202.0   4363.0   4451.0   5107.0   4349.0   \n",
                            "3      91984.0  11163.0  12646.0  11595.0  11357.0  11444.0  12774.0  10791.0   \n",
                            "4     134487.0  16698.0  17666.0  17281.0  15993.0  15845.0  17982.0  16909.0   \n",
                            "...        ...      ...      ...      ...      ...      ...      ...      ...   \n",
                            "1351   28494.0   3569.0   3820.0   3026.0   3491.0   3504.0   4147.0   3590.0   \n",
                            "670     5740.0    592.0    669.0    593.0    631.0    616.0    877.0    892.0   \n",
                            "2283   40968.0   4167.0   5072.0   4980.0   4758.0   5055.0   5804.0   5646.0   \n",
                            "2482   97605.0  12083.0  13272.0  13493.0  11316.0  11297.0  13078.0  12061.0   \n",
                            "2650   45641.0   5152.0   6468.0   4549.0   5125.0   6056.0   6405.0   5949.0   \n",
                            "\n",
                            "        70-79     80+  ...  ICU Beds_x  Population Aged 60+  \\\n",
                            "0      2460.0  1208.0  ...         0.0               7218.0   \n",
                            "1      4801.0  2928.0  ...         8.0              15253.0   \n",
                            "2      2713.0  1561.0  ...         6.0               8058.0   \n",
                            "3      6736.0  3478.0  ...         6.0              19479.0   \n",
                            "4     10074.0  6039.0  ...        32.0              31227.0   \n",
                            "...       ...     ...  ...         ...                  ...   \n",
                            "1351   2166.0  1181.0  ...         0.0               6343.0   \n",
                            "670     580.0   290.0  ...         0.0               1655.0   \n",
                            "2283   3346.0  2140.0  ...         5.0              10418.0   \n",
                            "2482   7150.0  3855.0  ...        76.0              21289.0   \n",
                            "2650   3877.0  2060.0  ...         0.0              10163.0   \n",
                            "\n",
                            "      county_pop2018_18 and older  anycondition_number  Obesity_number  \\\n",
                            "0                         20545.0              10213.0          7930.0   \n",
                            "1                         41304.0              19282.0         13713.0   \n",
                            "2                         30379.0              14283.0         10238.0   \n",
                            "3                         70506.0              33057.0         25735.0   \n",
                            "4                        103686.0              49754.0         38882.0   \n",
                            "...                           ...                  ...             ...   \n",
                            "1351                      21686.0               8920.0          7200.0   \n",
                            "670                        4589.0               2081.0          1501.0   \n",
                            "2283                      32897.0              15745.0         12205.0   \n",
                            "2482                      75733.0              39835.0         29612.0   \n",
                            "2650                      35137.0              15516.0         11982.0   \n",
                            "\n",
                            "      Heart disease_number  COPD_number  diabetes_number  CKD_number  \\\n",
                            "0                   2072.0       2314.0           2823.0       771.0   \n",
                            "1                   3796.0       4097.0           5416.0      1454.0   \n",
                            "2                   2222.0       2792.0           3698.0       871.0   \n",
                            "3                   5484.0       5716.0           7913.0      2118.0   \n",
                            "4                   8686.0      10002.0          12987.0      3490.0   \n",
                            "...                    ...          ...              ...         ...   \n",
                            "1351                1432.0       1225.0           2111.0       608.0   \n",
                            "670                  375.0        409.0            523.0       147.0   \n",
                            "2283                2794.0       3089.0           4022.0      1099.0   \n",
                            "2482                6579.0       7220.0          11365.0      2672.0   \n",
                            "2650                2486.0       2194.0           3927.0      1020.0   \n",
                            "\n",
                            "      Total Population  \n",
                            "0                55036  \n",
                            "1               203360  \n",
                            "2                26201  \n",
                            "3                22580  \n",
                            "4                57667  \n",
                            "...                ...  \n",
                            "1351             27810  \n",
                            "670               5771  \n",
                            "2283             42070  \n",
                            "2482             97887  \n",
                            "2650             40306  \n",
                            "\n",
                            "[3140 rows x 37 columns]>"
                        ]
                    },
                    "execution_count": 35,
                    "metadata": {},
                    "output_type": "execute_result"
                }
            ],
            "source": [
                "total_data.info\n"
            ]
        },
        {
            "cell_type": "code",
            "execution_count": 36,
            "metadata": {},
            "outputs": [
                {
                    "name": "stdout",
                    "output_type": "stream",
                    "text": [
                        "Columnas con valores NaN:\n",
                        "[]\n"
                    ]
                }
            ],
            "source": [
                "# Obtener una lista de columnas que tienen al menos un NaN\n",
                "columns_with_nan = total_data.columns[total_data.isna().any()].tolist()\n",
                "\n",
                "print(\"Columnas con valores NaN:\")\n",
                "print(columns_with_nan)"
            ]
        },
        {
            "cell_type": "code",
            "execution_count": 56,
            "metadata": {},
            "outputs": [],
            "source": [
                "total_data.to_csv(\"/workspaces/joseVent-linearregular/data/processed/total_data.csv\", index=False)"
            ]
        }
    ],
    "metadata": {
        "kernelspec": {
            "display_name": "Python 3.8.13 64-bit ('3.8.13')",
            "language": "python",
            "name": "python3"
        },
        "language_info": {
            "codemirror_mode": {
                "name": "ipython",
                "version": 3
            },
            "file_extension": ".py",
            "mimetype": "text/x-python",
            "name": "python",
            "nbconvert_exporter": "python",
            "pygments_lexer": "ipython3",
            "version": "3.11.4"
        },
        "orig_nbformat": 4,
        "vscode": {
            "interpreter": {
                "hash": "110cc1dee26208153f2972f08a2ad52b6a56238dc66d48e87fb757ef2996db56"
            }
        }
    },
    "nbformat": 4,
    "nbformat_minor": 2
}
